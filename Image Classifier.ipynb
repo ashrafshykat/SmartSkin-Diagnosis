{
 "cells": [
  {
   "cell_type": "code",
   "execution_count": 1,
   "id": "37e77006-38f8-4777-ba80-e4f589c0c46b",
   "metadata": {},
   "outputs": [
    {
     "name": "stderr",
     "output_type": "stream",
     "text": [
      "C:\\Users\\ASUS\\.conda\\envs\\myenv\\lib\\site-packages\\scipy\\__init__.py:146: UserWarning: A NumPy version >=1.16.5 and <1.23.0 is required for this version of SciPy (detected version 1.26.4\n",
      "  warnings.warn(f\"A NumPy version >={np_minversion} and <{np_maxversion}\"\n"
     ]
    }
   ],
   "source": [
    "import tensorflow as tf\n",
    "import os"
   ]
  },
  {
   "cell_type": "code",
   "execution_count": 2,
   "id": "ed464948-85aa-4981-b317-5fb28e70b01d",
   "metadata": {},
   "outputs": [],
   "source": [
    "gpus = tf.config.experimental.list_physical_devices('CPU')"
   ]
  },
  {
   "cell_type": "code",
   "execution_count": 3,
   "id": "546276ee-1112-47ea-9d38-7a25faa3ddde",
   "metadata": {},
   "outputs": [
    {
     "data": {
      "text/plain": [
       "[PhysicalDevice(name='/physical_device:CPU:0', device_type='CPU')]"
      ]
     },
     "execution_count": 3,
     "metadata": {},
     "output_type": "execute_result"
    }
   ],
   "source": [
    "gpus"
   ]
  },
  {
   "cell_type": "code",
   "execution_count": 4,
   "id": "9f5d37d4-4e93-40f4-a2c6-09c909739359",
   "metadata": {},
   "outputs": [],
   "source": [
    "gpus = tf.config.experimental.list_physical_devices('GPU')\n",
    "for gpu in gpus:\n",
    "    tf.config.experimental.set_memory_growth(gpu, True)"
   ]
  },
  {
   "cell_type": "code",
   "execution_count": 5,
   "id": "6a08adef-fe70-4752-8aae-909b5845e2e6",
   "metadata": {},
   "outputs": [],
   "source": [
    "import cv2\n",
    "import imghdr"
   ]
  },
  {
   "cell_type": "code",
   "execution_count": 6,
   "id": "758642b8-820f-4c10-9cbd-de4a454f31c8",
   "metadata": {},
   "outputs": [],
   "source": [
    "data_dir = 'data'"
   ]
  },
  {
   "cell_type": "code",
   "execution_count": 7,
   "id": "78487fd6-5de7-4ad9-8a24-faccc8cd425c",
   "metadata": {},
   "outputs": [],
   "source": [
    "image_extension = ['jpg']"
   ]
  },
  {
   "cell_type": "code",
   "execution_count": 8,
   "id": "3c07b58c-cb1d-496b-8169-d7511d039e08",
   "metadata": {},
   "outputs": [],
   "source": [
    "import numpy as np\n",
    "import matplotlib.pyplot as plt\n",
    "from sklearn.model_selection import train_test_split\n",
    "from tensorflow.keras.preprocessing.image import ImageDataGenerator\n",
    "from tensorflow.keras.models import Sequential\n",
    "from tensorflow.keras.layers import Conv2D, MaxPooling2D, Flatten, Dense, Dropout"
   ]
  },
  {
   "cell_type": "code",
   "execution_count": 9,
   "id": "989f00de-fc32-4a18-ad4d-6d97e0d59349",
   "metadata": {},
   "outputs": [
    {
     "name": "stdout",
     "output_type": "stream",
     "text": [
      "Found 2609 images belonging to 19 classes.\n",
      "Found 897 images belonging to 20 classes.\n"
     ]
    }
   ],
   "source": [
    "# Data augmentation and preprocessing\n",
    "train_datagen = ImageDataGenerator(\n",
    "    rescale=1./255,\n",
    "    rotation_range=20,\n",
    "    width_shift_range=0.2,\n",
    "    height_shift_range=0.2,\n",
    "    shear_range=0.2,\n",
    "    zoom_range=0.2,\n",
    "    horizontal_flip=True,\n",
    "    fill_mode='nearest')\n",
    "\n",
    "train_generator = train_datagen.flow_from_directory(\n",
    "    'D:/WebDjango/data/train/',\n",
    "    target_size=(128, 128),\n",
    "    batch_size=32,\n",
    "    class_mode='categorical')\n",
    "\n",
    "test_datagen = ImageDataGenerator(rescale=1./255)\n",
    "\n",
    "test_generator = test_datagen.flow_from_directory(\n",
    "    'D:/WebDjango/data/test/',\n",
    "    target_size=(128, 128),\n",
    "    batch_size=32,\n",
    "    class_mode='categorical')"
   ]
  },
  {
   "cell_type": "code",
   "execution_count": 10,
   "id": "4cf9162b-98b0-49b7-a370-9e816d824ab0",
   "metadata": {},
   "outputs": [],
   "source": [
    "path = 'D:/WebDjango/data/train/' "
   ]
  },
  {
   "cell_type": "code",
   "execution_count": 11,
   "id": "7e5accfb-7764-4eed-8fc0-c78f8ef2f346",
   "metadata": {},
   "outputs": [
    {
     "name": "stdout",
     "output_type": "stream",
     "text": [
      "classes:  ['Acne and Rosacea Photos', 'Actinic Keratosis Basal Cell Carcinoma and other Malignant Lesions', 'Atopic Dermatitis Photos', 'Cellulitis Impetigo and other Bacterial Infections', 'Eczema Photos', 'Exanthems and Drug Eruptions', 'Herpes HPV and other STDs Photos', 'Light Diseases and Disorders of Pigmentation', 'Lupus and other Connective Tissue diseases', 'Melanoma Skin Cancer Nevi and Moles', 'Poison Ivy Photos and other Contact Dermatitis', 'Psoriasis pictures Lichen Planus and related diseases', 'Seborrheic Keratoses and other Benign Tumors', 'Systemic Disease', 'Tinea Ringworm Candidiasis and other Fungal Infections', 'Urticaria Hives', 'Vascular Tumors', 'Vasculitis Photos', 'Warts Molluscum and other Viral Infections']\n"
     ]
    }
   ],
   "source": [
    "class_names = sorted(os.listdir(path))\n",
    "num_classes = len(class_names)\n",
    "\n",
    "img_size = (192, 192, 3)\n",
    "\n",
    "print('classes: ', class_names)"
   ]
  },
  {
   "cell_type": "code",
   "execution_count": 12,
   "id": "4241e048-1077-47eb-a292-fcd6a69ffbe3",
   "metadata": {},
   "outputs": [
    {
     "name": "stdout",
     "output_type": "stream",
     "text": [
      "images:\n",
      "\n",
      "done and Rosacea Photos -> \n",
      "donenic Keratosis Basal Cell Carcinoma and other Malignant Lesions -> \n",
      "doneic Dermatitis Photos -> \n",
      "doneulitis Impetigo and other Bacterial Infections -> \n",
      "donema Photos -> \n",
      "donethems and Drug Eruptions -> \n",
      "donees HPV and other STDs Photos -> \n",
      "donet Diseases and Disorders of Pigmentation -> \n",
      "dones and other Connective Tissue diseases -> \n",
      "donenoma Skin Cancer Nevi and Moles -> \n",
      "doneon Ivy Photos and other Contact Dermatitis -> \n",
      "doneiasis pictures Lichen Planus and related diseases -> \n",
      "donerrheic Keratoses and other Benign Tumors -> \n",
      "doneemic Disease -> \n",
      "donea Ringworm Candidiasis and other Fungal Infections -> \n",
      "Urticaria Hives -> done\n",
      "doneular Tumors -> \n",
      "doneulitis Photos -> \n",
      "dones Molluscum and other Viral Infections -> \n",
      "\n",
      "\n",
      "labels shape: (2609, 19)\n",
      "images shape: (2609, 192, 192, 3)\n"
     ]
    }
   ],
   "source": [
    "labels = []\n",
    "images = []\n",
    "\n",
    "print('images:\\n')\n",
    "for cl in class_names:\n",
    "    print(cl, end=' -> ')\n",
    "    for img in os.listdir(path + cl):\n",
    "        label = np.zeros(num_classes)\n",
    "        label[class_names.index(cl)] = 1\n",
    "        labels.append(label)\n",
    "        \n",
    "        image = np.asarray(cv2.resize(cv2.imread(path + cl + '/' + img, cv2.IMREAD_COLOR), img_size[0:2])[:, :, ::-1])\n",
    "        \n",
    "        #image = np.asarray(cv2.resize(cv2.imread(data_path + cl + '/' + img, cv2.COLOR_BGR2RGB), img_size[0:2]))\n",
    "        images.append(image)\n",
    "    print('done')\n",
    "\n",
    "    \n",
    "labels = np.asarray(labels)\n",
    "images = np.asarray(images)\n",
    "\n",
    "print(f'\\n\\nlabels shape: {labels.shape}')\n",
    "print(f'images shape: {images.shape}')"
   ]
  },
  {
   "cell_type": "code",
   "execution_count": 13,
   "id": "76b4eec2-19c2-473e-8865-ded79dfd69fd",
   "metadata": {},
   "outputs": [
    {
     "name": "stdout",
     "output_type": "stream",
     "text": [
      "train images shape: (2217, 192, 192, 3)\n",
      "train labels shape: (2217, 19)\n",
      "\n",
      "validation images shape: (392, 192, 192, 3)\n",
      "validation labels shape: (392, 19)\n",
      "\n"
     ]
    }
   ],
   "source": [
    "X_train, X_val, y_train, y_val = train_test_split(images, labels, test_size=0.15, random_state=42)\n",
    "\n",
    "print(f'train images shape: {X_train.shape}\\ntrain labels shape: {y_train.shape}\\n\\nvalidation images shape: {X_val.shape}\\nvalidation labels shape: {y_val.shape}\\n')"
   ]
  },
  {
   "cell_type": "code",
   "execution_count": 14,
   "id": "9481747d-6963-434d-ad4b-a54bf496e5db",
   "metadata": {},
   "outputs": [
    {
     "name": "stdout",
     "output_type": "stream",
     "text": [
      "Model: \"sequential\"\n",
      "_________________________________________________________________\n",
      " Layer (type)                Output Shape              Param #   \n",
      "=================================================================\n",
      " rescaling (Rescaling)       (None, 192, 192, 3)       0         \n",
      "                                                                 \n",
      " conv2d (Conv2D)             (None, 192, 192, 64)      1792      \n",
      "                                                                 \n",
      " conv2d_1 (Conv2D)           (None, 192, 192, 64)      36928     \n",
      "                                                                 \n",
      " max_pooling2d (MaxPooling2D  (None, 96, 96, 64)       0         \n",
      " )                                                               \n",
      "                                                                 \n",
      " conv2d_2 (Conv2D)           (None, 96, 96, 128)       32896     \n",
      "                                                                 \n",
      " conv2d_3 (Conv2D)           (None, 96, 96, 128)       65664     \n",
      "                                                                 \n",
      " max_pooling2d_1 (MaxPooling  (None, 48, 48, 128)      0         \n",
      " 2D)                                                             \n",
      "                                                                 \n",
      " conv2d_4 (Conv2D)           (None, 48, 48, 256)       131328    \n",
      "                                                                 \n",
      " conv2d_5 (Conv2D)           (None, 48, 48, 256)       262400    \n",
      "                                                                 \n",
      " max_pooling2d_2 (MaxPooling  (None, 24, 24, 256)      0         \n",
      " 2D)                                                             \n",
      "                                                                 \n",
      " conv2d_6 (Conv2D)           (None, 24, 24, 512)       524800    \n",
      "                                                                 \n",
      " conv2d_7 (Conv2D)           (None, 24, 24, 512)       1049088   \n",
      "                                                                 \n",
      " max_pooling2d_3 (MaxPooling  (None, 12, 12, 512)      0         \n",
      " 2D)                                                             \n",
      "                                                                 \n",
      " flatten (Flatten)           (None, 73728)             0         \n",
      "                                                                 \n",
      " dense (Dense)               (None, 256)               18874624  \n",
      "                                                                 \n",
      " dense_1 (Dense)             (None, 128)               32896     \n",
      "                                                                 \n",
      " dense_2 (Dense)             (None, 64)                8256      \n",
      "                                                                 \n",
      " dense_3 (Dense)             (None, 19)                1235      \n",
      "                                                                 \n",
      "=================================================================\n",
      "Total params: 21,021,907\n",
      "Trainable params: 21,021,907\n",
      "Non-trainable params: 0\n",
      "_________________________________________________________________\n"
     ]
    }
   ],
   "source": [
    "import tensorflow as tf\n",
    "\n",
    "cnn_model = tf.keras.Sequential()\n",
    "\n",
    "cnn_model.add(tf.keras.layers.Rescaling(scale=1. / 255, input_shape=(img_size)))\n",
    "\n",
    "# Convolutional block 1\n",
    "cnn_model.add(tf.keras.layers.Conv2D(64, (3, 3), activation='relu', padding='same'))\n",
    "cnn_model.add(tf.keras.layers.Conv2D(64, (3, 3), activation='relu', padding='same'))\n",
    "cnn_model.add(tf.keras.layers.MaxPooling2D(pool_size=2))\n",
    "\n",
    "# Convolutional block 2\n",
    "cnn_model.add(tf.keras.layers.Conv2D(128, (2, 2), activation='relu', padding='same'))\n",
    "cnn_model.add(tf.keras.layers.Conv2D(128, (2, 2), activation='relu', padding='same'))\n",
    "cnn_model.add(tf.keras.layers.MaxPooling2D(pool_size=2))\n",
    "\n",
    "# Convolutional block 3\n",
    "cnn_model.add(tf.keras.layers.Conv2D(256, (2, 2), activation='relu', padding='same'))\n",
    "cnn_model.add(tf.keras.layers.Conv2D(256, (2, 2), activation='relu', padding='same'))\n",
    "cnn_model.add(tf.keras.layers.MaxPooling2D(pool_size=2))\n",
    "\n",
    "# Convolutional block 4\n",
    "cnn_model.add(tf.keras.layers.Conv2D(512, (2, 2), activation='relu', padding='same'))\n",
    "cnn_model.add(tf.keras.layers.Conv2D(512, (2, 2), activation='relu', padding='same'))\n",
    "cnn_model.add(tf.keras.layers.MaxPooling2D(pool_size=2))\n",
    "cnn_model.add(tf.keras.layers.Flatten())\n",
    "\n",
    "# Dense block\n",
    "cnn_model.add(tf.keras.layers.Dense(256, activation='relu'))\n",
    "cnn_model.add(tf.keras.layers.Dense(128, activation='relu'))\n",
    "cnn_model.add(tf.keras.layers.Dense(64, activation='relu'))\n",
    "cnn_model.add(tf.keras.layers.Dense(num_classes, activation='softmax'))\n",
    "\n",
    "\n",
    "cnn_model.compile(optimizer='Adamax', loss='categorical_crossentropy', metrics=['accuracy'])\n",
    "\n",
    "cnn_model.summary()\n",
    "cnn_model.save(\"model_latest.h5\")"
   ]
  },
  {
   "cell_type": "code",
   "execution_count": 15,
   "id": "5eb1bcf7-6bc5-4530-9826-575096c1a4a8",
   "metadata": {},
   "outputs": [],
   "source": [
    "from tensorflow.keras.callbacks import ModelCheckpoint\n",
    "\n",
    "checkpoint_callback = ModelCheckpoint('cnn_model_latest/model{epoch:02d}')"
   ]
  },
  {
   "cell_type": "code",
   "execution_count": 16,
   "id": "ed8ab633-4a8e-41a0-808c-a2aee033ee78",
   "metadata": {},
   "outputs": [
    {
     "name": "stdout",
     "output_type": "stream",
     "text": [
      "Epoch 1/20\n",
      "82/82 [==============================] - ETA: 0s - loss: 2.4555 - accuracy: 0.2936   "
     ]
    },
    {
     "name": "stderr",
     "output_type": "stream",
     "text": [
      "WARNING:absl:Found untraced functions such as _jit_compiled_convolution_op, _jit_compiled_convolution_op, _jit_compiled_convolution_op, _jit_compiled_convolution_op, _jit_compiled_convolution_op while saving (showing 5 of 8). These functions will not be directly callable after loading.\n"
     ]
    },
    {
     "name": "stdout",
     "output_type": "stream",
     "text": [
      "INFO:tensorflow:Assets written to: cnn_model_latest\\model01\\assets\n"
     ]
    },
    {
     "name": "stderr",
     "output_type": "stream",
     "text": [
      "INFO:tensorflow:Assets written to: cnn_model_latest\\model01\\assets\n"
     ]
    },
    {
     "name": "stdout",
     "output_type": "stream",
     "text": [
      "82/82 [==============================] - 1209s 15s/step - loss: 2.4555 - accuracy: 0.2936 - val_loss: 2.3527 - val_accuracy: 0.3265\n",
      "Epoch 2/20\n",
      "82/82 [==============================] - ETA: 0s - loss: 2.3425 - accuracy: 0.3220   "
     ]
    },
    {
     "name": "stderr",
     "output_type": "stream",
     "text": [
      "WARNING:absl:Found untraced functions such as _jit_compiled_convolution_op, _jit_compiled_convolution_op, _jit_compiled_convolution_op, _jit_compiled_convolution_op, _jit_compiled_convolution_op while saving (showing 5 of 8). These functions will not be directly callable after loading.\n"
     ]
    },
    {
     "name": "stdout",
     "output_type": "stream",
     "text": [
      "INFO:tensorflow:Assets written to: cnn_model_latest\\model02\\assets\n"
     ]
    },
    {
     "name": "stderr",
     "output_type": "stream",
     "text": [
      "INFO:tensorflow:Assets written to: cnn_model_latest\\model02\\assets\n"
     ]
    },
    {
     "name": "stdout",
     "output_type": "stream",
     "text": [
      "82/82 [==============================] - 1189s 14s/step - loss: 2.3425 - accuracy: 0.3220 - val_loss: 2.3334 - val_accuracy: 0.3265\n",
      "Epoch 3/20\n",
      "82/82 [==============================] - ETA: 0s - loss: 2.2997 - accuracy: 0.3239   "
     ]
    },
    {
     "name": "stderr",
     "output_type": "stream",
     "text": [
      "WARNING:absl:Found untraced functions such as _jit_compiled_convolution_op, _jit_compiled_convolution_op, _jit_compiled_convolution_op, _jit_compiled_convolution_op, _jit_compiled_convolution_op while saving (showing 5 of 8). These functions will not be directly callable after loading.\n"
     ]
    },
    {
     "name": "stdout",
     "output_type": "stream",
     "text": [
      "INFO:tensorflow:Assets written to: cnn_model_latest\\model03\\assets\n"
     ]
    },
    {
     "name": "stderr",
     "output_type": "stream",
     "text": [
      "INFO:tensorflow:Assets written to: cnn_model_latest\\model03\\assets\n"
     ]
    },
    {
     "name": "stdout",
     "output_type": "stream",
     "text": [
      "82/82 [==============================] - 1166s 14s/step - loss: 2.2997 - accuracy: 0.3239 - val_loss: 2.2611 - val_accuracy: 0.3291\n",
      "Epoch 4/20\n",
      "82/82 [==============================] - ETA: 0s - loss: 2.2465 - accuracy: 0.3231   "
     ]
    },
    {
     "name": "stderr",
     "output_type": "stream",
     "text": [
      "WARNING:absl:Found untraced functions such as _jit_compiled_convolution_op, _jit_compiled_convolution_op, _jit_compiled_convolution_op, _jit_compiled_convolution_op, _jit_compiled_convolution_op while saving (showing 5 of 8). These functions will not be directly callable after loading.\n"
     ]
    },
    {
     "name": "stdout",
     "output_type": "stream",
     "text": [
      "INFO:tensorflow:Assets written to: cnn_model_latest\\model04\\assets\n"
     ]
    },
    {
     "name": "stderr",
     "output_type": "stream",
     "text": [
      "INFO:tensorflow:Assets written to: cnn_model_latest\\model04\\assets\n"
     ]
    },
    {
     "name": "stdout",
     "output_type": "stream",
     "text": [
      "82/82 [==============================] - 1182s 14s/step - loss: 2.2465 - accuracy: 0.3231 - val_loss: 2.2469 - val_accuracy: 0.3367\n",
      "Epoch 5/20\n",
      "82/82 [==============================] - ETA: 0s - loss: 2.1945 - accuracy: 0.3419   "
     ]
    },
    {
     "name": "stderr",
     "output_type": "stream",
     "text": [
      "WARNING:absl:Found untraced functions such as _jit_compiled_convolution_op, _jit_compiled_convolution_op, _jit_compiled_convolution_op, _jit_compiled_convolution_op, _jit_compiled_convolution_op while saving (showing 5 of 8). These functions will not be directly callable after loading.\n"
     ]
    },
    {
     "name": "stdout",
     "output_type": "stream",
     "text": [
      "INFO:tensorflow:Assets written to: cnn_model_latest\\model05\\assets\n"
     ]
    },
    {
     "name": "stderr",
     "output_type": "stream",
     "text": [
      "INFO:tensorflow:Assets written to: cnn_model_latest\\model05\\assets\n"
     ]
    },
    {
     "name": "stdout",
     "output_type": "stream",
     "text": [
      "82/82 [==============================] - 1185s 14s/step - loss: 2.1945 - accuracy: 0.3419 - val_loss: 2.2285 - val_accuracy: 0.3291\n",
      "Epoch 6/20\n",
      "82/82 [==============================] - ETA: 0s - loss: 2.1506 - accuracy: 0.3476   "
     ]
    },
    {
     "name": "stderr",
     "output_type": "stream",
     "text": [
      "WARNING:absl:Found untraced functions such as _jit_compiled_convolution_op, _jit_compiled_convolution_op, _jit_compiled_convolution_op, _jit_compiled_convolution_op, _jit_compiled_convolution_op while saving (showing 5 of 8). These functions will not be directly callable after loading.\n"
     ]
    },
    {
     "name": "stdout",
     "output_type": "stream",
     "text": [
      "INFO:tensorflow:Assets written to: cnn_model_latest\\model06\\assets\n"
     ]
    },
    {
     "name": "stderr",
     "output_type": "stream",
     "text": [
      "INFO:tensorflow:Assets written to: cnn_model_latest\\model06\\assets\n"
     ]
    },
    {
     "name": "stdout",
     "output_type": "stream",
     "text": [
      "82/82 [==============================] - 1142s 14s/step - loss: 2.1506 - accuracy: 0.3476 - val_loss: 2.1135 - val_accuracy: 0.3724\n",
      "Epoch 7/20\n",
      "82/82 [==============================] - ETA: 0s - loss: 2.0480 - accuracy: 0.3779   "
     ]
    },
    {
     "name": "stderr",
     "output_type": "stream",
     "text": [
      "WARNING:absl:Found untraced functions such as _jit_compiled_convolution_op, _jit_compiled_convolution_op, _jit_compiled_convolution_op, _jit_compiled_convolution_op, _jit_compiled_convolution_op while saving (showing 5 of 8). These functions will not be directly callable after loading.\n"
     ]
    },
    {
     "name": "stdout",
     "output_type": "stream",
     "text": [
      "INFO:tensorflow:Assets written to: cnn_model_latest\\model07\\assets\n"
     ]
    },
    {
     "name": "stderr",
     "output_type": "stream",
     "text": [
      "INFO:tensorflow:Assets written to: cnn_model_latest\\model07\\assets\n"
     ]
    },
    {
     "name": "stdout",
     "output_type": "stream",
     "text": [
      "82/82 [==============================] - 1190s 15s/step - loss: 2.0480 - accuracy: 0.3779 - val_loss: 1.9035 - val_accuracy: 0.4362\n",
      "Epoch 8/20\n",
      "82/82 [==============================] - ETA: 0s - loss: 1.8824 - accuracy: 0.4247   "
     ]
    },
    {
     "name": "stderr",
     "output_type": "stream",
     "text": [
      "WARNING:absl:Found untraced functions such as _jit_compiled_convolution_op, _jit_compiled_convolution_op, _jit_compiled_convolution_op, _jit_compiled_convolution_op, _jit_compiled_convolution_op while saving (showing 5 of 8). These functions will not be directly callable after loading.\n"
     ]
    },
    {
     "name": "stdout",
     "output_type": "stream",
     "text": [
      "INFO:tensorflow:Assets written to: cnn_model_latest\\model08\\assets\n"
     ]
    },
    {
     "name": "stderr",
     "output_type": "stream",
     "text": [
      "INFO:tensorflow:Assets written to: cnn_model_latest\\model08\\assets\n"
     ]
    },
    {
     "name": "stdout",
     "output_type": "stream",
     "text": [
      "82/82 [==============================] - 1187s 14s/step - loss: 1.8824 - accuracy: 0.4247 - val_loss: 1.7891 - val_accuracy: 0.4745\n",
      "Epoch 9/20\n",
      "82/82 [==============================] - ETA: 0s - loss: 1.6446 - accuracy: 0.4952   "
     ]
    },
    {
     "name": "stderr",
     "output_type": "stream",
     "text": [
      "WARNING:absl:Found untraced functions such as _jit_compiled_convolution_op, _jit_compiled_convolution_op, _jit_compiled_convolution_op, _jit_compiled_convolution_op, _jit_compiled_convolution_op while saving (showing 5 of 8). These functions will not be directly callable after loading.\n"
     ]
    },
    {
     "name": "stdout",
     "output_type": "stream",
     "text": [
      "INFO:tensorflow:Assets written to: cnn_model_latest\\model09\\assets\n"
     ]
    },
    {
     "name": "stderr",
     "output_type": "stream",
     "text": [
      "INFO:tensorflow:Assets written to: cnn_model_latest\\model09\\assets\n"
     ]
    },
    {
     "name": "stdout",
     "output_type": "stream",
     "text": [
      "82/82 [==============================] - 1167s 14s/step - loss: 1.6446 - accuracy: 0.4952 - val_loss: 1.3463 - val_accuracy: 0.6250\n",
      "Epoch 10/20\n",
      "82/82 [==============================] - ETA: 0s - loss: 1.3100 - accuracy: 0.5891   "
     ]
    },
    {
     "name": "stderr",
     "output_type": "stream",
     "text": [
      "WARNING:absl:Found untraced functions such as _jit_compiled_convolution_op, _jit_compiled_convolution_op, _jit_compiled_convolution_op, _jit_compiled_convolution_op, _jit_compiled_convolution_op while saving (showing 5 of 8). These functions will not be directly callable after loading.\n"
     ]
    },
    {
     "name": "stdout",
     "output_type": "stream",
     "text": [
      "INFO:tensorflow:Assets written to: cnn_model_latest\\model10\\assets\n"
     ]
    },
    {
     "name": "stderr",
     "output_type": "stream",
     "text": [
      "INFO:tensorflow:Assets written to: cnn_model_latest\\model10\\assets\n"
     ]
    },
    {
     "name": "stdout",
     "output_type": "stream",
     "text": [
      "82/82 [==============================] - 1164s 14s/step - loss: 1.3100 - accuracy: 0.5891 - val_loss: 0.9006 - val_accuracy: 0.7296\n",
      "Epoch 11/20\n",
      "82/82 [==============================] - ETA: 0s - loss: 0.9410 - accuracy: 0.7129   "
     ]
    },
    {
     "name": "stderr",
     "output_type": "stream",
     "text": [
      "WARNING:absl:Found untraced functions such as _jit_compiled_convolution_op, _jit_compiled_convolution_op, _jit_compiled_convolution_op, _jit_compiled_convolution_op, _jit_compiled_convolution_op while saving (showing 5 of 8). These functions will not be directly callable after loading.\n"
     ]
    },
    {
     "name": "stdout",
     "output_type": "stream",
     "text": [
      "INFO:tensorflow:Assets written to: cnn_model_latest\\model11\\assets\n"
     ]
    },
    {
     "name": "stderr",
     "output_type": "stream",
     "text": [
      "INFO:tensorflow:Assets written to: cnn_model_latest\\model11\\assets\n"
     ]
    },
    {
     "name": "stdout",
     "output_type": "stream",
     "text": [
      "82/82 [==============================] - 1197s 15s/step - loss: 0.9410 - accuracy: 0.7129 - val_loss: 0.6016 - val_accuracy: 0.8163\n",
      "Epoch 12/20\n",
      "82/82 [==============================] - ETA: 0s - loss: 0.6323 - accuracy: 0.8137   "
     ]
    },
    {
     "name": "stderr",
     "output_type": "stream",
     "text": [
      "WARNING:absl:Found untraced functions such as _jit_compiled_convolution_op, _jit_compiled_convolution_op, _jit_compiled_convolution_op, _jit_compiled_convolution_op, _jit_compiled_convolution_op while saving (showing 5 of 8). These functions will not be directly callable after loading.\n"
     ]
    },
    {
     "name": "stdout",
     "output_type": "stream",
     "text": [
      "INFO:tensorflow:Assets written to: cnn_model_latest\\model12\\assets\n"
     ]
    },
    {
     "name": "stderr",
     "output_type": "stream",
     "text": [
      "INFO:tensorflow:Assets written to: cnn_model_latest\\model12\\assets\n"
     ]
    },
    {
     "name": "stdout",
     "output_type": "stream",
     "text": [
      "82/82 [==============================] - 1195s 15s/step - loss: 0.6323 - accuracy: 0.8137 - val_loss: 0.4932 - val_accuracy: 0.8469\n",
      "Epoch 13/20\n",
      "82/82 [==============================] - ETA: 0s - loss: 0.4545 - accuracy: 0.8727   "
     ]
    },
    {
     "name": "stderr",
     "output_type": "stream",
     "text": [
      "WARNING:absl:Found untraced functions such as _jit_compiled_convolution_op, _jit_compiled_convolution_op, _jit_compiled_convolution_op, _jit_compiled_convolution_op, _jit_compiled_convolution_op while saving (showing 5 of 8). These functions will not be directly callable after loading.\n"
     ]
    },
    {
     "name": "stdout",
     "output_type": "stream",
     "text": [
      "INFO:tensorflow:Assets written to: cnn_model_latest\\model13\\assets\n"
     ]
    },
    {
     "name": "stderr",
     "output_type": "stream",
     "text": [
      "INFO:tensorflow:Assets written to: cnn_model_latest\\model13\\assets\n"
     ]
    },
    {
     "name": "stdout",
     "output_type": "stream",
     "text": [
      "82/82 [==============================] - 1279s 16s/step - loss: 0.4545 - accuracy: 0.8727 - val_loss: 0.3243 - val_accuracy: 0.9107\n",
      "Epoch 14/20\n",
      "82/82 [==============================] - ETA: 0s - loss: 0.3551 - accuracy: 0.9042   "
     ]
    },
    {
     "name": "stderr",
     "output_type": "stream",
     "text": [
      "WARNING:absl:Found untraced functions such as _jit_compiled_convolution_op, _jit_compiled_convolution_op, _jit_compiled_convolution_op, _jit_compiled_convolution_op, _jit_compiled_convolution_op while saving (showing 5 of 8). These functions will not be directly callable after loading.\n"
     ]
    },
    {
     "name": "stdout",
     "output_type": "stream",
     "text": [
      "INFO:tensorflow:Assets written to: cnn_model_latest\\model14\\assets\n"
     ]
    },
    {
     "name": "stderr",
     "output_type": "stream",
     "text": [
      "INFO:tensorflow:Assets written to: cnn_model_latest\\model14\\assets\n"
     ]
    },
    {
     "name": "stdout",
     "output_type": "stream",
     "text": [
      "82/82 [==============================] - 1284s 16s/step - loss: 0.3551 - accuracy: 0.9042 - val_loss: 0.2563 - val_accuracy: 0.9337\n",
      "Epoch 15/20\n",
      "82/82 [==============================] - ETA: 0s - loss: 0.2422 - accuracy: 0.9398   "
     ]
    },
    {
     "name": "stderr",
     "output_type": "stream",
     "text": [
      "WARNING:absl:Found untraced functions such as _jit_compiled_convolution_op, _jit_compiled_convolution_op, _jit_compiled_convolution_op, _jit_compiled_convolution_op, _jit_compiled_convolution_op while saving (showing 5 of 8). These functions will not be directly callable after loading.\n"
     ]
    },
    {
     "name": "stdout",
     "output_type": "stream",
     "text": [
      "INFO:tensorflow:Assets written to: cnn_model_latest\\model15\\assets\n"
     ]
    },
    {
     "name": "stderr",
     "output_type": "stream",
     "text": [
      "INFO:tensorflow:Assets written to: cnn_model_latest\\model15\\assets\n"
     ]
    },
    {
     "name": "stdout",
     "output_type": "stream",
     "text": [
      "82/82 [==============================] - 1305s 16s/step - loss: 0.2422 - accuracy: 0.9398 - val_loss: 0.1659 - val_accuracy: 0.9566\n",
      "Epoch 16/20\n",
      "82/82 [==============================] - ETA: 0s - loss: 0.1999 - accuracy: 0.9521   "
     ]
    },
    {
     "name": "stderr",
     "output_type": "stream",
     "text": [
      "WARNING:absl:Found untraced functions such as _jit_compiled_convolution_op, _jit_compiled_convolution_op, _jit_compiled_convolution_op, _jit_compiled_convolution_op, _jit_compiled_convolution_op while saving (showing 5 of 8). These functions will not be directly callable after loading.\n"
     ]
    },
    {
     "name": "stdout",
     "output_type": "stream",
     "text": [
      "INFO:tensorflow:Assets written to: cnn_model_latest\\model16\\assets\n"
     ]
    },
    {
     "name": "stderr",
     "output_type": "stream",
     "text": [
      "INFO:tensorflow:Assets written to: cnn_model_latest\\model16\\assets\n"
     ]
    },
    {
     "name": "stdout",
     "output_type": "stream",
     "text": [
      "82/82 [==============================] - 1382s 17s/step - loss: 0.1999 - accuracy: 0.9521 - val_loss: 0.1367 - val_accuracy: 0.9643\n",
      "Epoch 17/20\n",
      "82/82 [==============================] - ETA: 0s - loss: 0.1792 - accuracy: 0.9590   "
     ]
    },
    {
     "name": "stderr",
     "output_type": "stream",
     "text": [
      "WARNING:absl:Found untraced functions such as _jit_compiled_convolution_op, _jit_compiled_convolution_op, _jit_compiled_convolution_op, _jit_compiled_convolution_op, _jit_compiled_convolution_op while saving (showing 5 of 8). These functions will not be directly callable after loading.\n"
     ]
    },
    {
     "name": "stdout",
     "output_type": "stream",
     "text": [
      "INFO:tensorflow:Assets written to: cnn_model_latest\\model17\\assets\n"
     ]
    },
    {
     "name": "stderr",
     "output_type": "stream",
     "text": [
      "INFO:tensorflow:Assets written to: cnn_model_latest\\model17\\assets\n"
     ]
    },
    {
     "name": "stdout",
     "output_type": "stream",
     "text": [
      "82/82 [==============================] - 1563s 19s/step - loss: 0.1792 - accuracy: 0.9590 - val_loss: 0.1229 - val_accuracy: 0.9719\n",
      "Epoch 18/20\n",
      "82/82 [==============================] - ETA: 0s - loss: 0.1594 - accuracy: 0.9624   "
     ]
    },
    {
     "name": "stderr",
     "output_type": "stream",
     "text": [
      "WARNING:absl:Found untraced functions such as _jit_compiled_convolution_op, _jit_compiled_convolution_op, _jit_compiled_convolution_op, _jit_compiled_convolution_op, _jit_compiled_convolution_op while saving (showing 5 of 8). These functions will not be directly callable after loading.\n"
     ]
    },
    {
     "name": "stdout",
     "output_type": "stream",
     "text": [
      "INFO:tensorflow:Assets written to: cnn_model_latest\\model18\\assets\n"
     ]
    },
    {
     "name": "stderr",
     "output_type": "stream",
     "text": [
      "INFO:tensorflow:Assets written to: cnn_model_latest\\model18\\assets\n"
     ]
    },
    {
     "name": "stdout",
     "output_type": "stream",
     "text": [
      "82/82 [==============================] - 1401s 17s/step - loss: 0.1594 - accuracy: 0.9624 - val_loss: 0.1176 - val_accuracy: 0.9719\n",
      "Epoch 19/20\n",
      "82/82 [==============================] - ETA: 0s - loss: 0.1533 - accuracy: 0.9636   "
     ]
    },
    {
     "name": "stderr",
     "output_type": "stream",
     "text": [
      "WARNING:absl:Found untraced functions such as _jit_compiled_convolution_op, _jit_compiled_convolution_op, _jit_compiled_convolution_op, _jit_compiled_convolution_op, _jit_compiled_convolution_op while saving (showing 5 of 8). These functions will not be directly callable after loading.\n"
     ]
    },
    {
     "name": "stdout",
     "output_type": "stream",
     "text": [
      "INFO:tensorflow:Assets written to: cnn_model_latest\\model19\\assets\n"
     ]
    },
    {
     "name": "stderr",
     "output_type": "stream",
     "text": [
      "INFO:tensorflow:Assets written to: cnn_model_latest\\model19\\assets\n"
     ]
    },
    {
     "name": "stdout",
     "output_type": "stream",
     "text": [
      "82/82 [==============================] - 1336s 16s/step - loss: 0.1533 - accuracy: 0.9636 - val_loss: 0.1108 - val_accuracy: 0.9796\n",
      "Epoch 20/20\n",
      "82/82 [==============================] - ETA: 0s - loss: 0.1328 - accuracy: 0.9697   "
     ]
    },
    {
     "name": "stderr",
     "output_type": "stream",
     "text": [
      "WARNING:absl:Found untraced functions such as _jit_compiled_convolution_op, _jit_compiled_convolution_op, _jit_compiled_convolution_op, _jit_compiled_convolution_op, _jit_compiled_convolution_op while saving (showing 5 of 8). These functions will not be directly callable after loading.\n"
     ]
    },
    {
     "name": "stdout",
     "output_type": "stream",
     "text": [
      "INFO:tensorflow:Assets written to: cnn_model_latest\\model20\\assets\n"
     ]
    },
    {
     "name": "stderr",
     "output_type": "stream",
     "text": [
      "INFO:tensorflow:Assets written to: cnn_model_latest\\model20\\assets\n"
     ]
    },
    {
     "name": "stdout",
     "output_type": "stream",
     "text": [
      "82/82 [==============================] - 1298s 16s/step - loss: 0.1328 - accuracy: 0.9697 - val_loss: 0.0823 - val_accuracy: 0.9796\n"
     ]
    }
   ],
   "source": [
    "history = cnn_model.fit(images, labels, epochs=20, validation_data=(X_val, y_val), callbacks=[checkpoint_callback])"
   ]
  },
  {
   "cell_type": "code",
   "execution_count": 17,
   "id": "2c454a8c-4094-46f3-a54b-8a6033ef0562",
   "metadata": {},
   "outputs": [
    {
     "data": {
      "image/png": "[encoded data removed]",
      "text/plain": [
       "<Figure size 640x480 with 1 Axes>"
      ]
     },
     "metadata": {},
     "output_type": "display_data"
    },
    {
     "data": {
      "image/png": "[encoded data removed]",
      "text/plain": [
       "<Figure size 640x480 with 1 Axes>"
      ]
     },
     "metadata": {},
     "output_type": "display_data"
    }
   ],
   "source": [
    "accuracy = history.history['accuracy']\n",
    "val_accuracy = history.history['val_accuracy']\n",
    "\n",
    "loss = history.history['loss']\n",
    "val_loss = history.history['val_loss']\n",
    "\n",
    "epochs = range(len(accuracy))\n",
    "\n",
    "plt.figure()\n",
    "plt.plot(epochs, accuracy, label='Training Accuracy')\n",
    "plt.plot(epochs, loss, label='Training Loss')\n",
    "plt.legend()\n",
    "plt.title('Training Accuracy and Loss')\n",
    "\n",
    "plt.figure()\n",
    "plt.plot(epochs, val_accuracy, label='Validation Accuracy')\n",
    "plt.plot(epochs, val_loss, label='Validation Loss')\n",
    "plt.legend()\n",
    "plt.title('Validation Accuracy and Loss')\n",
    "\n",
    "plt.show()"
   ]
  },
  {
   "cell_type": "code",
   "execution_count": 39,
   "id": "23573a6c-7d05-4ae6-ab8f-4df7de68df0e",
   "metadata": {},
   "outputs": [],
   "source": [
    "import numpy as np\n",
    "import cv2\n",
    "import requests\n",
    "from io import BytesIO\n",
    "import tensorflow as tf\n",
    "\n",
    "class_names = [\n",
    "    'Acne and Rosacea Photos',\n",
    "    'Actinic Keratosis Basal Cell Carcinoma and other Malignant Lesions',\n",
    "    'Atopic Dermatitis Photos',\n",
    "    'Cellulitis Impetigo and other Bacterial Infections',\n",
    "    'Eczema Photos',\n",
    "    'Exanthems and Drug Eruptions',\n",
    "    'Herpes HPV and other STDs Photos',\n",
    "    'Light Diseases and Disorders of Pigmentation',\n",
    "    'Lupus and other Connective Tissue diseases',\n",
    "    'Melanoma Skin Cancer Nevi and Moles',\n",
    "    'Poison Ivy Photos and other Contact Dermatitis',\n",
    "    'Psoriasis pictures Lichen Planus and related diseases',\n",
    "    'Seborrheic Keratoses and other Benign Tumors',\n",
    "    'Systemic Disease',\n",
    "    'Tinea Ringworm Candidiasis and other Fungal Infections',\n",
    "    'Urticaria Hives',\n",
    "    'Vascular Tumors',\n",
    "    'Vasculitis Photos',\n",
    "    'Warts Molluscum and other Viral Infections'\n",
    "]\n",
    "\n",
    "cnn_model = tf.keras.models.load_model('new_model.h5')\n",
    "\n",
    "def predict_skin_disease(image_url):\n",
    "    img_size = (192, 192, 3) \n",
    "\n",
    "    response = requests.get(image_url)\n",
    "    img_array = np.array(bytearray(response.content), dtype=np.uint8)\n",
    "\n",
    "    image = cv2.imdecode(img_array, cv2.IMREAD_COLOR)\n",
    "    \n",
    "    if image is None:\n",
    "        print(\"Failed to load image.\")\n",
    "        return None\n",
    "\n",
    "    image = cv2.resize(image, img_size[0:2])\n",
    "    image = image[:, :, ::-1]\n",
    "\n",
    "    image = image / 255.0  \n",
    "    image = np.expand_dims(image, axis=0)  \n",
    "\n",
    "    prediction = cnn_model.predict(image, verbose=0)[0]\n",
    "    predicted_class_index = np.argmax(prediction)\n",
    "    \n",
    "    if predicted_class_index >= len(class_names):\n",
    "        print(f\"Prediction index out of range: {predicted_class_index}\")\n",
    "        return None\n",
    "    \n",
    "    predicted_class_label = class_names[predicted_class_index]\n",
    "\n",
    "    return predicted_class_label"
   ]
  },
  {
   "cell_type": "code",
   "execution_count": 40,
   "id": "f973e302-3ff3-48cc-90e1-d31d1909b406",
   "metadata": {},
   "outputs": [
    {
     "name": "stdout",
     "output_type": "stream",
     "text": [
      "Predicted skin disease: Seborrheic Keratoses and other Benign Tumors\n"
     ]
    }
   ],
   "source": [
    "image_url = 'https://www.askdrsears.com/wp-content/uploads/2013/08/ringworm-symptoms.jpg'\n",
    "predicted_label = predict_skin_disease(image_url)\n",
    "print(f\"Predicted skin disease: {predicted_label}\")"
   ]
  },
  {
   "cell_type": "code",
   "execution_count": null,
   "id": "5e8fff83-a6f8-49ca-8d89-5c202ed8e868",
   "metadata": {},
   "outputs": [],
   "source": []
  }
 ],
 "metadata": {
  "kernelspec": {
   "display_name": "Python (myenv)",
   "language": "python",
   "name": "myenv"
  },
  "language_info": {
   "codemirror_mode": {
    "name": "ipython",
    "version": 3
   },
   "file_extension": ".py",
   "mimetype": "text/x-python",
   "name": "python",
   "nbconvert_exporter": "python",
   "pygments_lexer": "ipython3",
   "version": "3.10.8"
  }
 },
 "nbformat": 4,
 "nbformat_minor": 5
}
