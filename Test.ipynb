{
 "cells": [
  {
   "cell_type": "code",
   "execution_count": 1,
   "id": "74a803ea-9f87-4279-abd5-e2672727bba8",
   "metadata": {},
   "outputs": [
    {
     "name": "stderr",
     "output_type": "stream",
     "text": [
      "C:\\Users\\ASUS\\.conda\\envs\\myenv\\lib\\site-packages\\scipy\\__init__.py:146: UserWarning: A NumPy version >=1.16.5 and <1.23.0 is required for this version of SciPy (detected version 1.26.4\n",
      "  warnings.warn(f\"A NumPy version >={np_minversion} and <{np_maxversion}\"\n"
     ]
    }
   ],
   "source": [
    "import numpy as np\n",
    "import cv2\n",
    "import requests\n",
    "from io import BytesIO\n",
    "import tensorflow as tf\n",
    "\n",
    "class_names = [\n",
    "    'Acne and Rosacea Photos',\n",
    "    'Actinic Keratosis Basal Cell Carcinoma and other Malignant Lesions',\n",
    "    'Atopic Dermatitis Photos',\n",
    "    'Cellulitis Impetigo and other Bacterial Infections',\n",
    "    'Eczema Photos',\n",
    "    'Exanthems and Drug Eruptions',\n",
    "    'Herpes HPV and other STDs Photos',\n",
    "    'Light Diseases and Disorders of Pigmentation',\n",
    "    'Lupus and other Connective Tissue diseases',\n",
    "    'Melanoma Skin Cancer Nevi and Moles',\n",
    "    'Poison Ivy Photos and other Contact Dermatitis',\n",
    "    'Psoriasis pictures Lichen Planus and related diseases',\n",
    "    'Seborrheic Keratoses and other Benign Tumors',\n",
    "    'Systemic Disease',\n",
    "    'Tinea Ringworm Candidiasis and other Fungal Infections',\n",
    "    'Urticaria Hives',\n",
    "    'Vascular Tumors',\n",
    "    'Vasculitis Photos',\n",
    "    'Warts Molluscum and other Viral Infections'\n",
    "]\n",
    "\n",
    "cnn_model = tf.keras.models.load_model('model_latest.h5')\n",
    "\n",
    "def predict_skin_disease(image_url):\n",
    "    img_size = (192, 192, 3) \n",
    "\n",
    "    response = requests.get(image_url)\n",
    "    img_array = np.array(bytearray(response.content), dtype=np.uint8)\n",
    "\n",
    "    image = cv2.imdecode(img_array, cv2.IMREAD_COLOR)\n",
    "    \n",
    "    if image is None:\n",
    "        print(\"Failed to load image.\")\n",
    "        return None\n",
    "\n",
    "    image = cv2.resize(image, img_size[0:2])\n",
    "    image = image[:, :, ::-1]\n",
    "\n",
    "    image = image / 255.0  \n",
    "    image = np.expand_dims(image, axis=0)  \n",
    "\n",
    "    prediction = cnn_model.predict(image, verbose=0)[0]\n",
    "    predicted_class_index = np.argmax(prediction)\n",
    "    \n",
    "    if predicted_class_index >= len(class_names):\n",
    "        print(f\"Prediction index out of range: {predicted_class_index}\")\n",
    "        return None\n",
    "    \n",
    "    predicted_class_label = class_names[predicted_class_index]\n",
    "\n",
    "    return predicted_class_label"
   ]
  },
  {
   "cell_type": "code",
   "execution_count": 7,
   "id": "4959cbde-03f3-4772-b0fe-ad3c7765aa0e",
   "metadata": {},
   "outputs": [
    {
     "name": "stdout",
     "output_type": "stream",
     "text": [
      "Predicted skin disease: Herpes HPV and other STDs Photos\n"
     ]
    }
   ],
   "source": [
    "image_url = 'https://www.rodeoderm.com/wp-content/uploads/herpes-face.jpg'\n",
    "predicted_label = predict_skin_disease(image_url)\n",
    "print(f\"Predicted skin disease: {predicted_label}\")"
   ]
  },
  {
   "cell_type": "code",
   "execution_count": null,
   "id": "30ecc252-c7e0-46bc-9832-1d7c83174a1e",
   "metadata": {},
   "outputs": [],
   "source": []
  }
 ],
 "metadata": {
  "kernelspec": {
   "display_name": "Python (myenv)",
   "language": "python",
   "name": "myenv"
  },
  "language_info": {
   "codemirror_mode": {
    "name": "ipython",
    "version": 3
   },
   "file_extension": ".py",
   "mimetype": "text/x-python",
   "name": "python",
   "nbconvert_exporter": "python",
   "pygments_lexer": "ipython3",
   "version": "3.10.8"
  }
 },
 "nbformat": 4,
 "nbformat_minor": 5
}
