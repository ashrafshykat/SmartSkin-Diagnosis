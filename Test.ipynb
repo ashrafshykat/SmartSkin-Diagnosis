{
 "cells": [
  {
   "cell_type": "code",
   "execution_count": 1,
   "id": "2a3c9e3b-a2b9-4738-808c-9d7633711a6d",
   "metadata": {},
   "outputs": [],
   "source": [
    "import torch\n",
    "import torch.nn as nn\n",
    "import torch.nn.functional as F\n",
    "\n",
    "class SmartSkinCNN(nn.Module):\n",
    "    def __init__(self, num_classes=19):\n",
    "        super(SmartSkinCNN, self).__init__()\n",
    "\n",
    "        self.conv_block1 = nn.Sequential(\n",
    "            nn.Conv2d(3, 64, kernel_size=3, padding=1),\n",
    "            nn.ReLU(),\n",
    "            nn.Conv2d(64, 64, kernel_size=3, padding=1),\n",
    "            nn.ReLU(),\n",
    "            nn.MaxPool2d(2)\n",
    "        )\n",
    "        self.conv_block2 = nn.Sequential(\n",
    "            nn.Conv2d(64, 128, kernel_size=2, padding=1),\n",
    "            nn.ReLU(),\n",
    "            nn.Conv2d(128, 128, kernel_size=2, padding=1),\n",
    "            nn.ReLU(),\n",
    "            nn.MaxPool2d(2)\n",
    "        )\n",
    "        self.conv_block3 = nn.Sequential(\n",
    "            nn.Conv2d(128, 256, kernel_size=2, padding=1),\n",
    "            nn.ReLU(),\n",
    "            nn.Conv2d(256, 256, kernel_size=2, padding=1),\n",
    "            nn.ReLU(),\n",
    "            nn.MaxPool2d(2)\n",
    "        )\n",
    "        self.conv_block4 = nn.Sequential(\n",
    "            nn.Conv2d(256, 512, kernel_size=2, padding=1),\n",
    "            nn.ReLU(),\n",
    "            nn.Conv2d(512, 512, kernel_size=2, padding=1),\n",
    "            nn.ReLU(),\n",
    "            nn.MaxPool2d(2)\n",
    "        )\n",
    "\n",
    "        self.flatten = nn.Flatten()\n",
    "        conv_output_size = self._get_conv_output_shape()\n",
    "        self.fc1 = nn.Linear(conv_output_size, 256)\n",
    "        self.fc2 = nn.Linear(256, 128)\n",
    "        self.fc3 = nn.Linear(128, 64)\n",
    "        self.fc4 = nn.Linear(64, num_classes)\n",
    "\n",
    "    def _get_conv_output_shape(self):\n",
    "        with torch.no_grad():\n",
    "            x = torch.zeros(1, 3, 180, 180)  # Use your input image size here\n",
    "            x = self.conv_block1(x)\n",
    "            x = self.conv_block2(x)\n",
    "            x = self.conv_block3(x)\n",
    "            x = self.conv_block4(x)\n",
    "            return x.view(1, -1).shape[1]\n",
    "\n",
    "    def forward(self, x):\n",
    "        x = self.conv_block1(x)\n",
    "        x = self.conv_block2(x)\n",
    "        x = self.conv_block3(x)\n",
    "        x = self.conv_block4(x)\n",
    "        x = self.flatten(x)\n",
    "        x = F.relu(self.fc1(x))\n",
    "        x = F.relu(self.fc2(x))\n",
    "        x = F.relu(self.fc3(x))\n",
    "        x = self.fc4(x)\n",
    "        return x"
   ]
  },
  {
   "cell_type": "code",
   "execution_count": 2,
   "id": "81749d9c-5b34-4669-b622-200e27b4a4a6",
   "metadata": {},
   "outputs": [
    {
     "name": "stdout",
     "output_type": "stream",
     "text": [
      "----------------------------------------------------------------\n",
      "        Layer (type)               Output Shape         Param #\n",
      "================================================================\n",
      "            Conv2d-1         [-1, 64, 180, 180]           1,792\n",
      "              ReLU-2         [-1, 64, 180, 180]               0\n",
      "            Conv2d-3         [-1, 64, 180, 180]          36,928\n",
      "              ReLU-4         [-1, 64, 180, 180]               0\n",
      "         MaxPool2d-5           [-1, 64, 90, 90]               0\n",
      "            Conv2d-6          [-1, 128, 91, 91]          32,896\n",
      "              ReLU-7          [-1, 128, 91, 91]               0\n",
      "            Conv2d-8          [-1, 128, 92, 92]          65,664\n",
      "              ReLU-9          [-1, 128, 92, 92]               0\n",
      "        MaxPool2d-10          [-1, 128, 46, 46]               0\n",
      "           Conv2d-11          [-1, 256, 47, 47]         131,328\n",
      "             ReLU-12          [-1, 256, 47, 47]               0\n",
      "           Conv2d-13          [-1, 256, 48, 48]         262,400\n",
      "             ReLU-14          [-1, 256, 48, 48]               0\n",
      "        MaxPool2d-15          [-1, 256, 24, 24]               0\n",
      "           Conv2d-16          [-1, 512, 25, 25]         524,800\n",
      "             ReLU-17          [-1, 512, 25, 25]               0\n",
      "           Conv2d-18          [-1, 512, 26, 26]       1,049,088\n",
      "             ReLU-19          [-1, 512, 26, 26]               0\n",
      "        MaxPool2d-20          [-1, 512, 13, 13]               0\n",
      "          Flatten-21                [-1, 86528]               0\n",
      "           Linear-22                  [-1, 256]      22,151,424\n",
      "           Linear-23                  [-1, 128]          32,896\n",
      "           Linear-24                   [-1, 64]           8,256\n",
      "           Linear-25                   [-1, 19]           1,235\n",
      "================================================================\n",
      "Total params: 24,298,707\n",
      "Trainable params: 24,298,707\n",
      "Non-trainable params: 0\n",
      "----------------------------------------------------------------\n",
      "Input size (MB): 0.37\n",
      "Forward/backward pass size (MB): 132.25\n",
      "Params size (MB): 92.69\n",
      "Estimated Total Size (MB): 225.31\n",
      "----------------------------------------------------------------\n"
     ]
    }
   ],
   "source": [
    "from torchsummary import summary\n",
    "model = SmartSkinCNN(num_classes=19)\n",
    "summary(model, input_size=(3, 180, 180))"
   ]
  },
  {
   "cell_type": "code",
   "execution_count": 3,
   "id": "7784e850-fd5d-410a-b2de-62935ee0fc13",
   "metadata": {},
   "outputs": [
    {
     "data": {
      "text/plain": [
       "'smartskin_cnn.jpg'"
      ]
     },
     "execution_count": 3,
     "metadata": {},
     "output_type": "execute_result"
    }
   ],
   "source": [
    "from torchviz import make_dot\n",
    "x = torch.randn(1, 3, 180, 180)\n",
    "y = model(x)\n",
    "make_dot(y, params=dict(model.named_parameters())).render(\"smartskin_cnn\", format=\"jpg\")"
   ]
  },
  {
   "cell_type": "code",
   "execution_count": null,
   "id": "13c3d921-5471-40ad-aeca-ea5ce3171d63",
   "metadata": {},
   "outputs": [],
   "source": []
  }
 ],
 "metadata": {
  "kernelspec": {
   "display_name": "Python (myenv)",
   "language": "python",
   "name": "myenv"
  },
  "language_info": {
   "codemirror_mode": {
    "name": "ipython",
    "version": 3
   },
   "file_extension": ".py",
   "mimetype": "text/x-python",
   "name": "python",
   "nbconvert_exporter": "python",
   "pygments_lexer": "ipython3",
   "version": "3.10.8"
  }
 },
 "nbformat": 4,
 "nbformat_minor": 5
}
